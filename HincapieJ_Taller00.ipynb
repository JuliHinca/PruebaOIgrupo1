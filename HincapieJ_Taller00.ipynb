{
  "nbformat": 4,
  "nbformat_minor": 0,
  "metadata": {
    "colab": {
      "provenance": [],
      "authorship_tag": "ABX9TyMhDzUpepsgqdg31F7izyZ6",
      "include_colab_link": true
    },
    "kernelspec": {
      "name": "python3",
      "display_name": "Python 3"
    },
    "language_info": {
      "name": "python"
    }
  },
  "cells": [
    {
      "cell_type": "markdown",
      "metadata": {
        "id": "view-in-github",
        "colab_type": "text"
      },
      "source": [
        "<a href=\"https://colab.research.google.com/github/JuliHinca/PruebaOIgrupo1/blob/main/HincapieJ_Taller00.ipynb\" target=\"_parent\"><img src=\"https://colab.research.google.com/assets/colab-badge.svg\" alt=\"Open In Colab\"/></a>"
      ]
    },
    {
      "cell_type": "markdown",
      "source": [
        "# Mi primera vez\n",
        "## Esto es un subtitulo\n"
      ],
      "metadata": {
        "id": "Jb7s8KXSelGE"
      }
    },
    {
      "cell_type": "code",
      "execution_count": 1,
      "metadata": {
        "colab": {
          "base_uri": "https://localhost:8080/"
        },
        "id": "bXfqn3AEcpcO",
        "outputId": "db78bc56-ad43-4dff-be08-e81fa96701a9"
      },
      "outputs": [
        {
          "output_type": "stream",
          "name": "stdout",
          "text": [
            "hola mundo\n"
          ]
        }
      ],
      "source": [
        "print(\"Buenos días  mundo\")"
      ]
    },
    {
      "cell_type": "markdown",
      "source": [
        "# Segundo Ejercicio\n",
        "\n",
        "\n",
        "\n",
        "---\n",
        "\n"
      ],
      "metadata": {
        "id": "FCoRTAtnfCMK"
      }
    },
    {
      "cell_type": "code",
      "source": [
        "print(\"Hola, Julian\")"
      ],
      "metadata": {
        "colab": {
          "base_uri": "https://localhost:8080/"
        },
        "id": "I1DiLzkyfQFr",
        "outputId": "b6932af7-cbc1-49ea-ecc0-9fd1773281e4"
      },
      "execution_count": 2,
      "outputs": [
        {
          "output_type": "stream",
          "name": "stdout",
          "text": [
            "Hola, Julian\n"
          ]
        }
      ]
    }
  ]
}